{
 "cells": [
  {
   "cell_type": "markdown",
   "metadata": {},
   "source": [
    "# Lab 4: Data Visualization and EDA"
   ]
  },
  {
   "cell_type": "markdown",
   "metadata": {},
   "source": [
    "Objectives:\n",
    "- To gain practice in creating various data visualizations\n",
    "- To encourage students to perform EDA on the required dataset"
   ]
  },
  {
   "cell_type": "markdown",
   "metadata": {},
   "source": [
    "***"
   ]
  },
  {
   "cell_type": "markdown",
   "metadata": {},
   "source": [
    "1. Load all Superstore datasets.\n",
    "\n",
    "*Note: The same dataset used in Lab 3*"
   ]
  },
  {
   "cell_type": "code",
   "execution_count": 47,
   "metadata": {},
   "outputs": [],
   "source": [
    "# Write your code here\n",
    "import pandas as pd\n",
    "import numpy as np\n",
    "import matplotlib.pyplot as plt\n",
    "import matplotlib.ticker as mtick\n",
    "\n",
    "dfOrder =  pd.read_csv(\"../week3/Superstore/superstore_order.csv\")\n",
    "dfPeople =  pd.read_csv(\"../week3/Superstore/superstore_people.csv\")\n",
    "dfReturn =  pd.read_csv(\"../week3/Superstore/superstore_return.csv\")"
   ]
  },
  {
   "cell_type": "markdown",
   "metadata": {},
   "source": [
    "2. Determine shape of each dataset (print out the results as well)."
   ]
  },
  {
   "cell_type": "code",
   "execution_count": 48,
   "metadata": {},
   "outputs": [
    {
     "name": "stdout",
     "output_type": "stream",
     "text": [
      "(8880, 21)\n",
      "(4, 2)\n",
      "(296, 2)\n"
     ]
    }
   ],
   "source": [
    "# Write your code here\n",
    "print(dfOrder.shape)\n",
    "print(dfPeople.shape)\n",
    "print(dfReturn.shape)"
   ]
  },
  {
   "cell_type": "markdown",
   "metadata": {},
   "source": [
    "3. Show information of the dataset.\n"
   ]
  },
  {
   "cell_type": "code",
   "execution_count": 49,
   "metadata": {},
   "outputs": [
    {
     "name": "stdout",
     "output_type": "stream",
     "text": [
      "<class 'pandas.core.frame.DataFrame'>\n",
      "RangeIndex: 8880 entries, 0 to 8879\n",
      "Data columns (total 21 columns):\n",
      " #   Column         Non-Null Count  Dtype  \n",
      "---  ------         --------------  -----  \n",
      " 0   Row ID         8880 non-null   int64  \n",
      " 1   Order ID       8880 non-null   object \n",
      " 2   Order Date     8880 non-null   object \n",
      " 3   Ship Date      8880 non-null   object \n",
      " 4   Ship Mode      8880 non-null   object \n",
      " 5   Customer ID    8880 non-null   object \n",
      " 6   Customer Name  8880 non-null   object \n",
      " 7   Segment        8880 non-null   object \n",
      " 8   Country        8880 non-null   object \n",
      " 9   City           8880 non-null   object \n",
      " 10  State          8880 non-null   object \n",
      " 11  Postal Code    8880 non-null   int64  \n",
      " 12  Region         8880 non-null   object \n",
      " 13  Product ID     8880 non-null   object \n",
      " 14  Category       8880 non-null   object \n",
      " 15  Sub-Category   8880 non-null   object \n",
      " 16  Product Name   8880 non-null   object \n",
      " 17  Sales          8880 non-null   float64\n",
      " 18  Quantity       8880 non-null   int64  \n",
      " 19  Discount       8880 non-null   float64\n",
      " 20  Profit         8880 non-null   float64\n",
      "dtypes: float64(3), int64(3), object(15)\n",
      "memory usage: 1.4+ MB\n",
      "None\n",
      "<class 'pandas.core.frame.DataFrame'>\n",
      "RangeIndex: 4 entries, 0 to 3\n",
      "Data columns (total 2 columns):\n",
      " #   Column  Non-Null Count  Dtype \n",
      "---  ------  --------------  ----- \n",
      " 0   Person  4 non-null      object\n",
      " 1   Region  4 non-null      object\n",
      "dtypes: object(2)\n",
      "memory usage: 196.0+ bytes\n",
      "None\n",
      "<class 'pandas.core.frame.DataFrame'>\n",
      "RangeIndex: 296 entries, 0 to 295\n",
      "Data columns (total 2 columns):\n",
      " #   Column    Non-Null Count  Dtype \n",
      "---  ------    --------------  ----- \n",
      " 0   Returned  296 non-null    object\n",
      " 1   Order ID  296 non-null    object\n",
      "dtypes: object(2)\n",
      "memory usage: 4.8+ KB\n",
      "None\n"
     ]
    }
   ],
   "source": [
    "# Write your code here (3.1)\n",
    "print(dfOrder.info())\n",
    "print(dfPeople.info())\n",
    "print(dfReturn.info())\n",
    "# dfOrder.isnull().any()\n",
    "# dfPeople.isnull().any()\n",
    "# dfReturn.isnull().any()"
   ]
  },
  {
   "cell_type": "markdown",
   "metadata": {},
   "source": [
    "4. Are there any missing values? If so, in which column?\n",
    "\n",
    "Ans: No missing values."
   ]
  },
  {
   "cell_type": "markdown",
   "metadata": {},
   "source": [
    "5. \n",
    "- 5.1 List unique segments\n",
    "- 5.2 List unique segments and their corresponding count\n",
    "- 5.3 Create a pie chart to demonstrate unique segments and their count\n",
    "- 5.4 Briefly describe what could be interpreted from this pie chart\n",
    "\n",
    "*Note: please create additional cells to answer 5.2 - 5.3*"
   ]
  },
  {
   "cell_type": "code",
   "execution_count": 50,
   "metadata": {},
   "outputs": [
    {
     "data": {
      "text/plain": [
       "array(['Consumer', 'Corporate', 'Home Office'], dtype=object)"
      ]
     },
     "execution_count": 50,
     "metadata": {},
     "output_type": "execute_result"
    }
   ],
   "source": [
    "# Write your code here (5.1)\n",
    "dfOrder[\"Segment\"].unique()\n"
   ]
  },
  {
   "cell_type": "code",
   "execution_count": 51,
   "metadata": {},
   "outputs": [
    {
     "name": "stdout",
     "output_type": "stream",
     "text": [
      "Segment\n",
      "Consumer       4613\n",
      "Corporate      2673\n",
      "Home Office    1594\n",
      "Name: count, dtype: int64\n"
     ]
    }
   ],
   "source": [
    "# 5.2\n",
    "labels = dfOrder[\"Segment\"].value_counts()\n",
    "print(labels)\n"
   ]
  },
  {
   "cell_type": "code",
   "execution_count": 52,
   "metadata": {},
   "outputs": [
    {
     "data": {
      "image/png": "[encoded data removed]",
      "text/plain": [
       "<Figure size 640x480 with 1 Axes>"
      ]
     },
     "metadata": {},
     "output_type": "display_data"
    }
   ],
   "source": [
    "# 5.3\n",
    "y = np.array(labels.values)\n",
    "mylabels = labels.index\n",
    "\n",
    "plt.pie(y, labels = mylabels, startangle=90, autopct='%1.1f%%') \n",
    "plt.show()"
   ]
  },
  {
   "cell_type": "markdown",
   "metadata": {},
   "source": [
    "Answer for the question 5.4\n",
    "\n",
    "Ans: Count all the possible data that in the column `Segment` from superstore_order and display the data in the piechart and show the percentage of each outcome into a percentage."
   ]
  },
  {
   "cell_type": "markdown",
   "metadata": {},
   "source": [
    "6. \n",
    "- 6.1 List unique states\n",
    "- 6.2 List top-10 unique states and their corresponding count\n",
    "- 6.3 Create a bar chart (vertical) to demonstrate the count of top-10 unique states\n",
    "- 6.4 Based on 6.2, also include the total sales of these states (show your result as a dataframe)\n",
    "- 6.5 Using the result from 6.4, if you were the owner of this superstore, what information could be interpreted from this result?\n",
    "\n",
    "*Note: please create additional cells to answer 6.2 - 6.4*"
   ]
  },
  {
   "cell_type": "code",
   "execution_count": 53,
   "metadata": {},
   "outputs": [
    {
     "data": {
      "text/plain": [
       "0         Kentucky\n",
       "1         Kentucky\n",
       "2       California\n",
       "3          Florida\n",
       "4          Florida\n",
       "           ...    \n",
       "8875         Texas\n",
       "8876         Texas\n",
       "8877    New Jersey\n",
       "8878    New Jersey\n",
       "8879    California\n",
       "Name: State, Length: 8880, dtype: object"
      ]
     },
     "execution_count": 53,
     "metadata": {},
     "output_type": "execute_result"
    }
   ],
   "source": [
    "# Write your code here (6.1)\n",
    "dfOrder[\"State\"]\n",
    "\n"
   ]
  },
  {
   "cell_type": "code",
   "execution_count": 54,
   "metadata": {},
   "outputs": [
    {
     "name": "stdout",
     "output_type": "stream",
     "text": [
      "State\n",
      "California        1754\n",
      "New York          1001\n",
      "Texas              860\n",
      "Pennsylvania       531\n",
      "Washington         452\n",
      "Illinois           427\n",
      "Ohio               396\n",
      "Florida            339\n",
      "Michigan           230\n",
      "North Carolina     229\n",
      "Name: count, dtype: int64\n"
     ]
    }
   ],
   "source": [
    "# 6.2\n",
    "dataBar = dfOrder[\"State\"].value_counts().head(10)\n",
    "print(dataBar)"
   ]
  },
  {
   "cell_type": "code",
   "execution_count": 55,
   "metadata": {},
   "outputs": [
    {
     "data": {
      "text/plain": [
       "Text(0.5, 1.0, 'test')"
      ]
     },
     "execution_count": 55,
     "metadata": {},
     "output_type": "execute_result"
    },
    {
     "data": {
      "image/png": "[encoded data removed]",
      "text/plain": [
       "<Figure size 640x480 with 1 Axes>"
      ]
     },
     "metadata": {},
     "output_type": "display_data"
    }
   ],
   "source": [
    "# 6.3\n",
    "\n",
    "plt.bar(dataBar.index, dataBar.values)\n",
    "plt.xlabel(\"State\")\n",
    "plt.ylabel(\"Count\")\n",
    "plt.grid()\n",
    "plt.title(\"test\")"
   ]
  },
  {
   "cell_type": "code",
   "execution_count": 56,
   "metadata": {},
   "outputs": [
    {
     "name": "stdout",
     "output_type": "stream",
     "text": [
      "                State Count  Total Sales\n",
      "State                                   \n",
      "California             1754  399195.4555\n",
      "New York               1001  274866.8190\n",
      "Texas                   860  147855.0282\n",
      "Pennsylvania            531  103852.5210\n",
      "Washington              452  124497.7780\n",
      "Illinois                427   71456.1780\n",
      "Ohio                    396   67924.2140\n",
      "Florida                 339   84083.0880\n",
      "Michigan                230   62147.6960\n",
      "North Carolina          229   49962.1580\n"
     ]
    }
   ],
   "source": [
    "#6.4 Based on 6.2, also include the total sales of these states (show your result as a dataframe)\n",
    "dataBar = dfOrder[\"State\"].value_counts().head(10)\n",
    "\n",
    "total_sales = dfOrder.groupby(\"State\")[\"Sales\"].sum().loc[dataBar.index]\n",
    "\n",
    "result_df = pd.DataFrame({\"State Count\": dataBar, \"Total Sales\": total_sales})\n",
    "\n",
    "print(result_df)\n",
    "\n"
   ]
  },
  {
   "cell_type": "markdown",
   "metadata": {},
   "source": [
    "Answer for the question 6.5\n",
    "\n",
    "Ans: The result from the previous section is to count all of the `State` from superstore orders and then sum all of the sales in each state"
   ]
  },
  {
   "cell_type": "markdown",
   "metadata": {},
   "source": [
    "7. \n",
    "- 7.1 List unique categories\n",
    "- 7.2 Create a bar chart (horizontal) to demonstrate the proportion of these categories\n",
    "- 7.3 Compute the ratio of these categories in percentage and print the results\n",
    "\n",
    "*Note: please create additional cells to answer 7.2 - 7.3*"
   ]
  },
  {
   "cell_type": "code",
   "execution_count": 57,
   "metadata": {},
   "outputs": [
    {
     "data": {
      "text/plain": [
       "array(['Furniture', 'Office Supplies', 'Technology'], dtype=object)"
      ]
     },
     "execution_count": 57,
     "metadata": {},
     "output_type": "execute_result"
    }
   ],
   "source": [
    "# Write your code here (7.1)\n",
    "dfOrder[\"Category\"].unique()"
   ]
  },
  {
   "cell_type": "code",
   "execution_count": 58,
   "metadata": {},
   "outputs": [
    {
     "name": "stdout",
     "output_type": "stream",
     "text": [
      "          category      count\n",
      "0  Office Supplies  60.360360\n",
      "1        Furniture  21.171171\n",
      "2       Technology  18.468468\n"
     ]
    },
    {
     "data": {
      "image/png": "[encoded data removed]",
      "text/plain": [
       "<Figure size 640x480 with 1 Axes>"
      ]
     },
     "metadata": {},
     "output_type": "display_data"
    }
   ],
   "source": [
    "# 7.2\n",
    "category = dfOrder[\"Category\"].value_counts()\n",
    "\n",
    "df = pd.DataFrame({\"category\":category.index, \"count\":category.values})\n",
    "df['count'] = df['count'].apply(lambda x: (x/df['count'].sum())*100)\n",
    "labels = df['count'].round(1).astype('str') + '%'\n",
    "\n",
    "ax = df.plot.bar(x='category', y='count', rot=0)\n",
    "for container in ax.containers:\n",
    "    ax.bar_label(container, labels=labels)\n",
    "    ax.yaxis.set_major_formatter(mtick.PercentFormatter())\n",
    "print(df)\n",
    "\n",
    "# plt.bar(category.labels, category.index, startangle=90, autopct='%1.1f%%') \n",
    "# plt.show()"
   ]
  },
  {
   "cell_type": "markdown",
   "metadata": {},
   "source": [
    "8. Update the type of all columns that contain dates to *datetime* and show information after an update."
   ]
  },
  {
   "cell_type": "code",
   "execution_count": 59,
   "metadata": {},
   "outputs": [
    {
     "name": "stdout",
     "output_type": "stream",
     "text": [
      "datetime64[ns]\n",
      "0      2016-11-11\n",
      "1      2016-11-11\n",
      "2      2016-06-16\n",
      "3      2015-10-18\n",
      "4      2015-10-18\n",
      "          ...    \n",
      "8875   2016-08-19\n",
      "8876   2016-08-19\n",
      "8877   2017-09-23\n",
      "8878   2017-09-23\n",
      "8879   2015-03-25\n",
      "Name: Ship Date, Length: 8880, dtype: datetime64[ns]\n"
     ]
    }
   ],
   "source": [
    "# write your code here\n",
    "dfOrder[\"Order Date\"] = pd.to_datetime(dfOrder[\"Order Date\"], format=\"%d/%m/%Y\")\n",
    "dfOrder[\"Ship Date\"] = pd.to_datetime(dfOrder[\"Ship Date\"], format=\"%d/%m/%Y\")\n",
    "\n",
    "print(dfOrder[\"Order Date\"].dtypes)\n",
    "print(dfOrder[\"Ship Date\"])"
   ]
  },
  {
   "cell_type": "markdown",
   "metadata": {},
   "source": [
    "9. Create a new column \"Processing time day\" to show number of days taken to ship an order and show your result in a dataframe format.\n",
    "\n",
    "*Hint: The duration starts as soon as the item has been ordered and ends once the order has successfully shipped.*"
   ]
  },
  {
   "cell_type": "code",
   "execution_count": 60,
   "metadata": {},
   "outputs": [
    {
     "name": "stdout",
     "output_type": "stream",
     "text": [
      "0       3\n",
      "1       3\n",
      "2       4\n",
      "3       7\n",
      "4       7\n",
      "       ..\n",
      "8875    6\n",
      "8876    6\n",
      "8877    6\n",
      "8878    6\n",
      "8879    2\n",
      "Name: Processing time day, Length: 8880, dtype: int64\n",
      "int64\n"
     ]
    }
   ],
   "source": [
    "# write your code here\n",
    "dfOrder[\"Processing time day\"] = (dfOrder[\"Ship Date\"] - dfOrder[\"Order Date\"]).dt.days\n",
    "print(dfOrder[\"Processing time day\"])\n",
    "print(dfOrder[\"Processing time day\"].dtypes)\n"
   ]
  },
  {
   "cell_type": "markdown",
   "metadata": {},
   "source": [
    "10. Based on the result in 9.\n",
    "- 10.1 How many orders are there that take more than 5 days to process?\n",
    "- 10.2 Show the top 5 rows (expected output should contain these columns: Order ID, Order Date, Ship Date, Processing time day, Quantity)\n",
    "- 10.3 Plot the histogram based on the column Quantity\n",
    "\n",
    "*Note: please create additional cells to answer 10.2 - 10.3*"
   ]
  },
  {
   "cell_type": "code",
   "execution_count": 61,
   "metadata": {},
   "outputs": [
    {
     "data": {
      "text/plain": [
       "1656"
      ]
     },
     "execution_count": 61,
     "metadata": {},
     "output_type": "execute_result"
    }
   ],
   "source": [
    "# 10.1\n",
    "dfOrder[dfOrder[\"Processing time day\"] > 5].shape[0]"
   ]
  },
  {
   "cell_type": "code",
   "execution_count": 62,
   "metadata": {},
   "outputs": [
    {
     "data": {
      "text/html": [
       "<div>\n",
       "<style scoped>\n",
       "    .dataframe tbody tr th:only-of-type {\n",
       "        vertical-align: middle;\n",
       "    }\n",
       "\n",
       "    .dataframe tbody tr th {\n",
       "        vertical-align: top;\n",
       "    }\n",
       "\n",
       "    .dataframe thead th {\n",
       "        text-align: right;\n",
       "    }\n",
       "</style>\n",
       "<table border=\"1\" class=\"dataframe\">\n",
       "  <thead>\n",
       "    <tr style=\"text-align: right;\">\n",
       "      <th></th>\n",
       "      <th>Order ID</th>\n",
       "      <th>Order Date</th>\n",
       "      <th>Ship Date</th>\n",
       "      <th>Processing time day</th>\n",
       "      <th>Quantity</th>\n",
       "    </tr>\n",
       "  </thead>\n",
       "  <tbody>\n",
       "    <tr>\n",
       "      <th>3</th>\n",
       "      <td>US-2015-108966</td>\n",
       "      <td>2015-10-11</td>\n",
       "      <td>2015-10-18</td>\n",
       "      <td>7</td>\n",
       "      <td>5</td>\n",
       "    </tr>\n",
       "    <tr>\n",
       "      <th>4</th>\n",
       "      <td>US-2015-108966</td>\n",
       "      <td>2015-10-11</td>\n",
       "      <td>2015-10-18</td>\n",
       "      <td>7</td>\n",
       "      <td>2</td>\n",
       "    </tr>\n",
       "    <tr>\n",
       "      <th>16</th>\n",
       "      <td>CA-2014-105893</td>\n",
       "      <td>2014-11-11</td>\n",
       "      <td>2014-11-18</td>\n",
       "      <td>7</td>\n",
       "      <td>6</td>\n",
       "    </tr>\n",
       "    <tr>\n",
       "      <th>53</th>\n",
       "      <td>CA-2016-105816</td>\n",
       "      <td>2016-12-11</td>\n",
       "      <td>2016-12-17</td>\n",
       "      <td>6</td>\n",
       "      <td>7</td>\n",
       "    </tr>\n",
       "    <tr>\n",
       "      <th>54</th>\n",
       "      <td>CA-2016-105816</td>\n",
       "      <td>2016-12-11</td>\n",
       "      <td>2016-12-17</td>\n",
       "      <td>6</td>\n",
       "      <td>5</td>\n",
       "    </tr>\n",
       "  </tbody>\n",
       "</table>\n",
       "</div>"
      ],
      "text/plain": [
       "          Order ID Order Date  Ship Date  Processing time day  Quantity\n",
       "3   US-2015-108966 2015-10-11 2015-10-18                    7         5\n",
       "4   US-2015-108966 2015-10-11 2015-10-18                    7         2\n",
       "16  CA-2014-105893 2014-11-11 2014-11-18                    7         6\n",
       "53  CA-2016-105816 2016-12-11 2016-12-17                    6         7\n",
       "54  CA-2016-105816 2016-12-11 2016-12-17                    6         5"
      ]
     },
     "execution_count": 62,
     "metadata": {},
     "output_type": "execute_result"
    }
   ],
   "source": [
    "# Write your code here (10.2)\n",
    "dfOrder[dfOrder[\"Processing time day\"] > 5].head(5)[[\"Order ID\", \"Order Date\", \"Ship Date\", \"Processing time day\", \"Quantity\"]]\n"
   ]
  },
  {
   "cell_type": "code",
   "execution_count": 63,
   "metadata": {},
   "outputs": [
    {
     "data": {
      "image/png": "[encoded data removed]",
      "text/plain": [
       "<Figure size 640x480 with 1 Axes>"
      ]
     },
     "metadata": {},
     "output_type": "display_data"
    }
   ],
   "source": [
    "# 10.3\n",
    "x = dfOrder[\"Quantity\"]\n",
    "plt.hist(x)\n",
    "plt.show()"
   ]
  },
  {
   "cell_type": "markdown",
   "metadata": {},
   "source": [
    "[BONUS 20 pts] Determine the percentage of customers who: \n",
    "- B1)returned the product once\n",
    "- B2) returned the product at least once\n",
    "- B3) never returned the product\n",
    "- Finally, Plot a comparison of B2 and B3\n",
    "\n",
    "*Note: please create additional cells to answer the above points*"
   ]
  },
  {
   "cell_type": "code",
   "execution_count": 77,
   "metadata": {},
   "outputs": [
    {
     "data": {
      "text/plain": [
       "7.858048162230672"
      ]
     },
     "execution_count": 77,
     "metadata": {},
     "output_type": "execute_result"
    }
   ],
   "source": [
    "merge = pd.merge(dfOrder, dfReturn, on='Order ID', how='left', indicator=True)[\"Customer ID\"].nunique()\n",
    "\n",
    "totalCustomer = merge\n",
    "\n",
    "secondMerge = pd.merge(dfOrder, dfReturn, on='Order ID', how='inner')[\"Customer ID\"]\n",
    "\n",
    "joinCustomerB1 = len(secondMerge)\n",
    "\n",
    "tempReturnB1 = (secondMerge.value_counts() == 1)\n",
    "\n",
    "singleReturnB1 = len(tempReturnB1[tempReturnB1.values == True])\n",
    "\n",
    "\n",
    "percentB1 = (singleReturnB1 / totalCustomer) * 100\n",
    "\n",
    "percentB1\n"
   ]
  },
  {
   "cell_type": "code",
   "execution_count": 78,
   "metadata": {},
   "outputs": [
    {
     "data": {
      "text/plain": [
       "28.13688212927757"
      ]
     },
     "execution_count": 78,
     "metadata": {},
     "output_type": "execute_result"
    }
   ],
   "source": [
    "merge = pd.merge(dfOrder, dfReturn, on='Order ID', how='left', indicator=True)\n",
    "\n",
    "joinCustomerB2 = merge[merge['_merge'] == 'both']['Customer ID']\n",
    "\n",
    "tempReturnB2 = joinCustomerB2.nunique()\n",
    "\n",
    "totalCustomer = merge[\"Customer ID\"].nunique()\n",
    "\n",
    "percentB2 = (tempReturnB2 / totalCustomer) * 100\n",
    "\n",
    "percentB2"
   ]
  },
  {
   "cell_type": "code",
   "execution_count": 79,
   "metadata": {},
   "outputs": [
    {
     "data": {
      "text/plain": [
       "71.86311787072243"
      ]
     },
     "execution_count": 79,
     "metadata": {},
     "output_type": "execute_result"
    }
   ],
   "source": [
    "percentB3 = ((totalCustomer - tempReturnB2) / totalCustomer) * 100\n",
    "\n",
    "percentB3"
   ]
  },
  {
   "cell_type": "code",
   "execution_count": 80,
   "metadata": {},
   "outputs": [
    {
     "data": {
      "text/plain": [
       "Text(0.5, 1.0, 'Percentage Of Csutomer')"
      ]
     },
     "execution_count": 80,
     "metadata": {},
     "output_type": "execute_result"
    },
    {
     "data": {
      "image/png": "[encoded data removed]",
      "text/plain": [
       "<Figure size 640x480 with 1 Axes>"
      ]
     },
     "metadata": {},
     "output_type": "display_data"
    }
   ],
   "source": [
    "# 6.3\n",
    "\n",
    "plt.bar([\"B2\", \"B3\"], [percentB2, percentB3])\n",
    "plt.xlabel(\"B2, B3\")\n",
    "plt.ylabel(\"Percentage\")\n",
    "plt.grid()\n",
    "plt.title(\"Percentage Of Csutomer\")"
   ]
  }
 ],
 "metadata": {
  "kernelspec": {
   "display_name": "Python 3.11.1 64-bit",
   "language": "python",
   "name": "python3"
  },
  "language_info": {
   "codemirror_mode": {
    "name": "ipython",
    "version": 3
   },
   "file_extension": ".py",
   "mimetype": "text/x-python",
   "name": "python",
   "nbconvert_exporter": "python",
   "pygments_lexer": "ipython3",
   "version": "3.12.0"
  },
  "orig_nbformat": 4,
  "vscode": {
   "interpreter": {
    "hash": "aee8b7b246df8f9039afb4144a1f6fd8d2ca17a180786b69acc140d282b71a49"
   }
  }
 },
 "nbformat": 4,
 "nbformat_minor": 2
}
