{
 "cells": [
  {
   "cell_type": "markdown",
   "metadata": {},
   "source": [
    "# Lab 4: Data Visualization and EDA"
   ]
  },
  {
   "cell_type": "markdown",
   "metadata": {},
   "source": [
    "Objectives:\n",
    "- To gain practice in creating various data visualizations\n",
    "- To encourage students to perform EDA on the required dataset"
   ]
  },
  {
   "cell_type": "markdown",
   "metadata": {},
   "source": [
    "***"
   ]
  },
  {
   "cell_type": "markdown",
   "metadata": {},
   "source": [
    "1. Load all Superstore datasets.\n",
    "\n",
    "*Note: The same dataset used in Lab 3*"
   ]
  },
  {
   "cell_type": "markdown",
   "metadata": {},
   "source": []
  },
  {
   "cell_type": "code",
   "execution_count": 1,
   "metadata": {},
   "outputs": [],
   "source": [
    "# Write your code here\n",
    "import pandas as pd\n",
    "import numpy as np\n",
    "import matplotlib.pyplot as plt\n",
    "import matplotlib.ticker as mtick\n",
    "\n",
    "dfOrder =  pd.read_csv(\"../week3/Superstore/superstore_order.csv\")\n",
    "dfPeople =  pd.read_csv(\"../week3/Superstore/superstore_people.csv\")\n",
    "dfReturn =  pd.read_csv(\"../week3/Superstore/superstore_return.csv\")"
   ]
  },
  {
   "cell_type": "markdown",
   "metadata": {},
   "source": [
    "2. Determine shape of each dataset (print out the results as well)."
   ]
  },
  {
   "cell_type": "code",
   "execution_count": 21,
   "metadata": {},
   "outputs": [
    {
     "name": "stdout",
     "output_type": "stream",
     "text": [
      "(8880, 21)\n",
      "(4, 2)\n",
      "(296, 2)\n"
     ]
    }
   ],
   "source": [
    "# Write your code here\n",
    "\n",
    "print(dfOrder.shape)\n",
    "print(dfPeople.shape)\n",
    "print(dfReturn.shape)\n"
   ]
  },
  {
   "cell_type": "markdown",
   "metadata": {},
   "source": [
    "3. Show information of the dataset.\n"
   ]
  },
  {
   "cell_type": "code",
   "execution_count": 25,
   "metadata": {},
   "outputs": [
    {
     "name": "stdout",
     "output_type": "stream",
     "text": [
      "Row ID           False\n",
      "Order ID         False\n",
      "Order Date       False\n",
      "Ship Date        False\n",
      "Ship Mode        False\n",
      "Customer ID      False\n",
      "Customer Name    False\n",
      "Segment          False\n",
      "Country          False\n",
      "City             False\n",
      "State            False\n",
      "Postal Code      False\n",
      "Region           False\n",
      "Product ID       False\n",
      "Category         False\n",
      "Sub-Category     False\n",
      "Product Name     False\n",
      "Sales            False\n",
      "Quantity         False\n",
      "Discount         False\n",
      "Profit           False\n",
      "dtype: bool\n",
      "Person    False\n",
      "Region    False\n",
      "dtype: bool\n",
      "Returned    False\n",
      "Order ID    False\n",
      "dtype: bool\n"
     ]
    }
   ],
   "source": [
    "# Write your code here (3.1)\n",
    "print(dfOrder.isnull().any())\n",
    "print(dfPeople.isnull().any())\n",
    "print(dfReturn.isnull().any())"
   ]
  },
  {
   "cell_type": "markdown",
   "metadata": {},
   "source": [
    "4. Are there any missing values? If so, in which column?\n",
    "\n",
    "Ans: No missing values."
   ]
  },
  {
   "cell_type": "markdown",
   "metadata": {},
   "source": [
    "5. \n",
    "- 5.1 List unique segments\n",
    "- 5.2 List unique segments and their corresponding count\n",
    "- 5.3 Create a pie chart to demonstrate unique segments and their count\n",
    "- 5.4 Briefly describe what could be interpreted from this pie chart\n",
    "\n",
    "*Note: please create additional cells to answer 5.2 - 5.3*"
   ]
  },
  {
   "cell_type": "code",
   "execution_count": 26,
   "metadata": {},
   "outputs": [
    {
     "data": {
      "text/plain": [
       "array(['Consumer', 'Corporate', 'Home Office'], dtype=object)"
      ]
     },
     "execution_count": 26,
     "metadata": {},
     "output_type": "execute_result"
    }
   ],
   "source": [
    "# Write your code here (5.1)\n",
    "dfOrder[\"Segment\"].unique()"
   ]
  },
  {
   "cell_type": "code",
   "execution_count": 27,
   "metadata": {},
   "outputs": [
    {
     "data": {
      "text/plain": [
       "Segment\n",
       "Consumer       4613\n",
       "Corporate      2673\n",
       "Home Office    1594\n",
       "Name: count, dtype: int64"
      ]
     },
     "execution_count": 27,
     "metadata": {},
     "output_type": "execute_result"
    }
   ],
   "source": [
    "# 5.2\n",
    "dfOrder[\"Segment\"].value_counts()"
   ]
  },
  {
   "cell_type": "code",
   "execution_count": 32,
   "metadata": {},
   "outputs": [
    {
     "data": {
      "image/png": "[encoded data removed]",
      "text/plain": [
       "<Figure size 640x480 with 1 Axes>"
      ]
     },
     "metadata": {},
     "output_type": "display_data"
    }
   ],
   "source": [
    "# 5.3\n",
    "data = dfOrder[\"Segment\"].value_counts()\n",
    "\n",
    "plt.pie(data.values, labels=data.index, autopct='%1.1f%%')\n",
    "plt.show()\n"
   ]
  },
  {
   "cell_type": "markdown",
   "metadata": {},
   "source": [
    "Answer for the question 5.4\n",
    "\n",
    "Ans: Count all the possible data that in the column `Segment` from superstore_order and display the data in the piechart and show the percentage of each outcome into a percentage."
   ]
  },
  {
   "cell_type": "markdown",
   "metadata": {},
   "source": [
    "6. \n",
    "- 6.1 List unique states\n",
    "- 6.2 List top-10 unique states and their corresponding count\n",
    "- 6.3 Create a bar chart (vertical) to demonstrate the count of top-10 unique states\n",
    "- 6.4 Based on 6.2, also include the total sales of these states (show your result as a dataframe)\n",
    "- 6.5 Using the result from 6.4, if you were the owner of this superstore, what information could be interpreted from this result?\n",
    "\n",
    "*Note: please create additional cells to answer 6.2 - 6.4*"
   ]
  },
  {
   "cell_type": "code",
   "execution_count": 34,
   "metadata": {},
   "outputs": [
    {
     "data": {
      "text/plain": [
       "array(['Kentucky', 'California', 'Florida', 'North Carolina',\n",
       "       'Washington', 'Texas', 'Wisconsin', 'Utah', 'Nebraska',\n",
       "       'Pennsylvania', 'Illinois', 'Minnesota', 'Michigan', 'Delaware',\n",
       "       'Indiana', 'New York', 'Arizona', 'Virginia', 'Tennessee',\n",
       "       'Alabama', 'South Carolina', 'Oregon', 'Colorado', 'Iowa', 'Ohio',\n",
       "       'Missouri', 'Oklahoma', 'New Mexico', 'Louisiana', 'Connecticut',\n",
       "       'New Jersey', 'Massachusetts', 'Georgia', 'Nevada', 'Rhode Island',\n",
       "       'Mississippi', 'Arkansas', 'Montana', 'New Hampshire', 'Maryland',\n",
       "       'District of Columbia', 'Kansas', 'Vermont', 'Maine',\n",
       "       'South Dakota', 'Idaho', 'North Dakota', 'Wyoming',\n",
       "       'West Virginia'], dtype=object)"
      ]
     },
     "execution_count": 34,
     "metadata": {},
     "output_type": "execute_result"
    }
   ],
   "source": [
    "# Write your code here (6.1)\n",
    "dfOrder[\"State\"].unique()\n"
   ]
  },
  {
   "cell_type": "code",
   "execution_count": 39,
   "metadata": {},
   "outputs": [
    {
     "data": {
      "text/plain": [
       "State\n",
       "California        1754\n",
       "New York          1001\n",
       "Texas              860\n",
       "Pennsylvania       531\n",
       "Washington         452\n",
       "Illinois           427\n",
       "Ohio               396\n",
       "Florida            339\n",
       "Michigan           230\n",
       "North Carolina     229\n",
       "Name: count, dtype: int64"
      ]
     },
     "execution_count": 39,
     "metadata": {},
     "output_type": "execute_result"
    }
   ],
   "source": [
    "# 6.2\n",
    "dfOrder[\"State\"].value_counts().iloc[:10]"
   ]
  },
  {
   "cell_type": "code",
   "execution_count": 46,
   "metadata": {},
   "outputs": [
    {
     "data": {
      "text/plain": [
       "Text(0.5, 1.0, 'test')"
      ]
     },
     "execution_count": 46,
     "metadata": {},
     "output_type": "execute_result"
    },
    {
     "data": {
      "image/png": "[encoded data removed]",
      "text/plain": [
       "<Figure size 640x480 with 1 Axes>"
      ]
     },
     "metadata": {},
     "output_type": "display_data"
    }
   ],
   "source": [
    "# 6.3\n",
    "data = dfOrder[\"State\"].value_counts().head(10)\n",
    "plt.bar(data.index, data.values)\n",
    "plt.xlabel(\"State\")\n",
    "plt.xlabel(\"Count\")\n",
    "plt.grid()\n",
    "plt.title(\"test\")"
   ]
  },
  {
   "cell_type": "code",
   "execution_count": 71,
   "metadata": {},
   "outputs": [
    {
     "data": {
      "text/html": [
       "<div>\n",
       "<style scoped>\n",
       "    .dataframe tbody tr th:only-of-type {\n",
       "        vertical-align: middle;\n",
       "    }\n",
       "\n",
       "    .dataframe tbody tr th {\n",
       "        vertical-align: top;\n",
       "    }\n",
       "\n",
       "    .dataframe thead th {\n",
       "        text-align: right;\n",
       "    }\n",
       "</style>\n",
       "<table border=\"1\" class=\"dataframe\">\n",
       "  <thead>\n",
       "    <tr style=\"text-align: right;\">\n",
       "      <th></th>\n",
       "      <th>State</th>\n",
       "      <th>Sales</th>\n",
       "    </tr>\n",
       "    <tr>\n",
       "      <th>State</th>\n",
       "      <th></th>\n",
       "      <th></th>\n",
       "    </tr>\n",
       "  </thead>\n",
       "  <tbody>\n",
       "    <tr>\n",
       "      <th>California</th>\n",
       "      <td>1754</td>\n",
       "      <td>399195.4555</td>\n",
       "    </tr>\n",
       "    <tr>\n",
       "      <th>New York</th>\n",
       "      <td>1001</td>\n",
       "      <td>274866.8190</td>\n",
       "    </tr>\n",
       "    <tr>\n",
       "      <th>Texas</th>\n",
       "      <td>860</td>\n",
       "      <td>147855.0282</td>\n",
       "    </tr>\n",
       "    <tr>\n",
       "      <th>Pennsylvania</th>\n",
       "      <td>531</td>\n",
       "      <td>103852.5210</td>\n",
       "    </tr>\n",
       "    <tr>\n",
       "      <th>Washington</th>\n",
       "      <td>452</td>\n",
       "      <td>124497.7780</td>\n",
       "    </tr>\n",
       "    <tr>\n",
       "      <th>Illinois</th>\n",
       "      <td>427</td>\n",
       "      <td>71456.1780</td>\n",
       "    </tr>\n",
       "    <tr>\n",
       "      <th>Ohio</th>\n",
       "      <td>396</td>\n",
       "      <td>67924.2140</td>\n",
       "    </tr>\n",
       "    <tr>\n",
       "      <th>Florida</th>\n",
       "      <td>339</td>\n",
       "      <td>84083.0880</td>\n",
       "    </tr>\n",
       "    <tr>\n",
       "      <th>Michigan</th>\n",
       "      <td>230</td>\n",
       "      <td>62147.6960</td>\n",
       "    </tr>\n",
       "    <tr>\n",
       "      <th>North Carolina</th>\n",
       "      <td>229</td>\n",
       "      <td>49962.1580</td>\n",
       "    </tr>\n",
       "  </tbody>\n",
       "</table>\n",
       "</div>"
      ],
      "text/plain": [
       "                State        Sales\n",
       "State                             \n",
       "California       1754  399195.4555\n",
       "New York         1001  274866.8190\n",
       "Texas             860  147855.0282\n",
       "Pennsylvania      531  103852.5210\n",
       "Washington        452  124497.7780\n",
       "Illinois          427   71456.1780\n",
       "Ohio              396   67924.2140\n",
       "Florida           339   84083.0880\n",
       "Michigan          230   62147.6960\n",
       "North Carolina    229   49962.1580"
      ]
     },
     "execution_count": 71,
     "metadata": {},
     "output_type": "execute_result"
    }
   ],
   "source": [
    "#6.4 Based on 6.2, also include the total sales of these states (show your result as a dataframe)\n",
    "\n",
    "state = dfOrder[\"State\"].value_counts().head(10)\n",
    "\n",
    "sales = dfOrder.groupby(\"State\")[\"Sales\"].sum().loc[state.index]\n",
    "\n",
    "pd.DataFrame({\"State\": state, \"Sales\": sales})\n"
   ]
  },
  {
   "cell_type": "markdown",
   "metadata": {},
   "source": [
    "Answer for the question 6.5\n",
    "\n",
    "Ans: The result from the previous section is to count all of the `State` from superstore orders and then sum all of the sales in each state"
   ]
  },
  {
   "cell_type": "markdown",
   "metadata": {},
   "source": [
    "7. \n",
    "- 7.1 List unique categories\n",
    "- 7.2 Create a bar chart (horizontal) to demonstrate the proportion of these categories\n",
    "- 7.3 Compute the ratio of these categories in percentage and print the results\n",
    "\n",
    "*Note: please create additional cells to answer 7.2 - 7.3*"
   ]
  },
  {
   "cell_type": "code",
   "execution_count": 72,
   "metadata": {},
   "outputs": [
    {
     "data": {
      "text/plain": [
       "array(['Furniture', 'Office Supplies', 'Technology'], dtype=object)"
      ]
     },
     "execution_count": 72,
     "metadata": {},
     "output_type": "execute_result"
    }
   ],
   "source": [
    "# Write your code here (7.1)\n",
    "dfOrder[\"Category\"].unique()"
   ]
  },
  {
   "cell_type": "code",
   "execution_count": 76,
   "metadata": {},
   "outputs": [
    {
     "data": {
      "image/png": "[encoded data removed]",
      "text/plain": [
       "<Figure size 640x480 with 1 Axes>"
      ]
     },
     "metadata": {},
     "output_type": "display_data"
    }
   ],
   "source": [
    "# 7.2\n",
    "data = dfOrder[\"Category\"].value_counts()\n",
    "plt.bar(data.index, data.values)\n",
    "plt.show()"
   ]
  },
  {
   "cell_type": "markdown",
   "metadata": {},
   "source": [
    "8. Update the type of all columns that contain dates to *datetime* and show information after an update."
   ]
  },
  {
   "cell_type": "code",
   "execution_count": 13,
   "metadata": {},
   "outputs": [],
   "source": [
    "# write your code here\n"
   ]
  },
  {
   "cell_type": "markdown",
   "metadata": {},
   "source": [
    "9. Create a new column \"Processing time day\" to show number of days taken to ship an order and show your result in a dataframe format.\n",
    "\n",
    "*Hint: The duration starts as soon as the item has been ordered and ends once the order has successfully shipped.*"
   ]
  },
  {
   "cell_type": "code",
   "execution_count": 14,
   "metadata": {},
   "outputs": [],
   "source": [
    "# write your code here\n"
   ]
  },
  {
   "cell_type": "markdown",
   "metadata": {},
   "source": [
    "10. Based on the result in 9.\n",
    "- 10.1 How many orders are there that take more than 5 days to process?\n",
    "- 10.2 Show the top 5 rows (expected output should contain these columns: Order ID, Order Date, Ship Date, Processing time day, Quantity)\n",
    "- 10.3 Plot the histogram based on the column Quantity\n",
    "\n",
    "*Note: please create additional cells to answer 10.2 - 10.3*"
   ]
  },
  {
   "cell_type": "code",
   "execution_count": 15,
   "metadata": {},
   "outputs": [],
   "source": [
    "# 10.1"
   ]
  },
  {
   "cell_type": "code",
   "execution_count": 16,
   "metadata": {},
   "outputs": [],
   "source": [
    "# Write your code here (10.2)\n"
   ]
  },
  {
   "cell_type": "code",
   "execution_count": 17,
   "metadata": {},
   "outputs": [],
   "source": [
    "# 10.3"
   ]
  },
  {
   "cell_type": "markdown",
   "metadata": {},
   "source": [
    "[BONUS 20 pts] Determine the percentage of customers who: \n",
    "- B1)returned the product once\n",
    "- B2) returned the product at least once\n",
    "- B3) never returned the product\n",
    "- Finally, Plot a comparison of B2 and B3\n",
    "\n",
    "*Note: please create additional cells to answer the above points*"
   ]
  },
  {
   "cell_type": "code",
   "execution_count": 102,
   "metadata": {},
   "outputs": [
    {
     "name": "stdout",
     "output_type": "stream",
     "text": [
      "7.858048162230672\n"
     ]
    }
   ],
   "source": [
    "returnOne = dfOrder.merge(dfReturn[dfReturn[\"Returned\"] == \"Yes\"], how=\"inner\", on=\"Order ID\")[\"Customer ID\"].drop_duplicates(keep=False).count()\n",
    "returnOne\n",
    "allCustomer = dfOrder[\"Customer ID\"].drop_duplicates().count()\n",
    "# # returnOne\n",
    "print((returnOne/allCustomer)*100)"
   ]
  },
  {
   "cell_type": "code",
   "execution_count": 103,
   "metadata": {},
   "outputs": [
    {
     "name": "stdout",
     "output_type": "stream",
     "text": [
      "28.13688212927757\n"
     ]
    }
   ],
   "source": [
    "returnOne = dfOrder.merge(dfReturn[dfReturn[\"Returned\"] == \"Yes\"], how=\"inner\", on=\"Order ID\")[\"Customer ID\"].drop_duplicates().count()\n",
    "returnOne\n",
    "allCustomer = dfOrder[\"Customer ID\"].drop_duplicates().count()\n",
    "# # returnOne\n",
    "print((returnOne/allCustomer)*100)"
   ]
  },
  {
   "cell_type": "code",
   "execution_count": null,
   "metadata": {},
   "outputs": [],
   "source": []
  },
  {
   "cell_type": "code",
   "execution_count": 18,
   "metadata": {},
   "outputs": [],
   "source": [
    "# 6.3\n"
   ]
  }
 ],
 "metadata": {
  "kernelspec": {
   "display_name": "Python 3.11.1 64-bit",
   "language": "python",
   "name": "python3"
  },
  "language_info": {
   "codemirror_mode": {
    "name": "ipython",
    "version": 3
   },
   "file_extension": ".py",
   "mimetype": "text/x-python",
   "name": "python",
   "nbconvert_exporter": "python",
   "pygments_lexer": "ipython3",
   "version": "3.12.0"
  },
  "orig_nbformat": 4,
  "vscode": {
   "interpreter": {
    "hash": "aee8b7b246df8f9039afb4144a1f6fd8d2ca17a180786b69acc140d282b71a49"
   }
  }
 },
 "nbformat": 4,
 "nbformat_minor": 2
}
